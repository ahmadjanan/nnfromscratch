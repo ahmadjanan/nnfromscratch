{
  "nbformat": 4,
  "nbformat_minor": 0,
  "metadata": {
    "colab": {
      "name": "ANN_from_scratch.ipynb",
      "provenance": [],
      "collapsed_sections": []
    },
    "kernelspec": {
      "name": "python3",
      "display_name": "Python 3"
    },
    "widgets": {
      "application/vnd.jupyter.widget-state+json": {
        "4ec3e1419ede4481a54641d977e0bbcd": {
          "model_module": "@jupyter-widgets/controls",
          "model_name": "HBoxModel",
          "state": {
            "_view_name": "HBoxView",
            "_dom_classes": [],
            "_model_name": "HBoxModel",
            "_view_module": "@jupyter-widgets/controls",
            "_model_module_version": "1.5.0",
            "_view_count": null,
            "_view_module_version": "1.5.0",
            "box_style": "",
            "layout": "IPY_MODEL_ea3ac4d92aca4790bd94a714aa6ef1ac",
            "_model_module": "@jupyter-widgets/controls",
            "children": [
              "IPY_MODEL_926e251043c547d385fca67f2d1171c7",
              "IPY_MODEL_ecda3285152046a3987eab327fc73e14"
            ]
          }
        },
        "ea3ac4d92aca4790bd94a714aa6ef1ac": {
          "model_module": "@jupyter-widgets/base",
          "model_name": "LayoutModel",
          "state": {
            "_view_name": "LayoutView",
            "grid_template_rows": null,
            "right": null,
            "justify_content": null,
            "_view_module": "@jupyter-widgets/base",
            "overflow": null,
            "_model_module_version": "1.2.0",
            "_view_count": null,
            "flex_flow": null,
            "width": null,
            "min_width": null,
            "border": null,
            "align_items": null,
            "bottom": null,
            "_model_module": "@jupyter-widgets/base",
            "top": null,
            "grid_column": null,
            "overflow_y": null,
            "overflow_x": null,
            "grid_auto_flow": null,
            "grid_area": null,
            "grid_template_columns": null,
            "flex": null,
            "_model_name": "LayoutModel",
            "justify_items": null,
            "grid_row": null,
            "max_height": null,
            "align_content": null,
            "visibility": null,
            "align_self": null,
            "height": null,
            "min_height": null,
            "padding": null,
            "grid_auto_rows": null,
            "grid_gap": null,
            "max_width": null,
            "order": null,
            "_view_module_version": "1.2.0",
            "grid_template_areas": null,
            "object_position": null,
            "object_fit": null,
            "grid_auto_columns": null,
            "margin": null,
            "display": null,
            "left": null
          }
        },
        "926e251043c547d385fca67f2d1171c7": {
          "model_module": "@jupyter-widgets/controls",
          "model_name": "FloatProgressModel",
          "state": {
            "_view_name": "ProgressView",
            "style": "IPY_MODEL_6f5774d3a8a04dcc8b8ef800eee05a2d",
            "_dom_classes": [],
            "description": "",
            "_model_name": "FloatProgressModel",
            "bar_style": "success",
            "max": 1,
            "_view_module": "@jupyter-widgets/controls",
            "_model_module_version": "1.5.0",
            "value": 1,
            "_view_count": null,
            "_view_module_version": "1.5.0",
            "orientation": "horizontal",
            "min": 0,
            "description_tooltip": null,
            "_model_module": "@jupyter-widgets/controls",
            "layout": "IPY_MODEL_9462930ebad641fe96e08241f6fb7319"
          }
        },
        "ecda3285152046a3987eab327fc73e14": {
          "model_module": "@jupyter-widgets/controls",
          "model_name": "HTMLModel",
          "state": {
            "_view_name": "HTMLView",
            "style": "IPY_MODEL_0674b7f9413c4a31b16aa72fde83e3ae",
            "_dom_classes": [],
            "description": "",
            "_model_name": "HTMLModel",
            "placeholder": "​",
            "_view_module": "@jupyter-widgets/controls",
            "_model_module_version": "1.5.0",
            "value": " 9920512/? [00:00&lt;00:00, 10620437.76it/s]",
            "_view_count": null,
            "_view_module_version": "1.5.0",
            "description_tooltip": null,
            "_model_module": "@jupyter-widgets/controls",
            "layout": "IPY_MODEL_90d2ec3ccaff46d2a49d56ebae3665b2"
          }
        },
        "6f5774d3a8a04dcc8b8ef800eee05a2d": {
          "model_module": "@jupyter-widgets/controls",
          "model_name": "ProgressStyleModel",
          "state": {
            "_view_name": "StyleView",
            "_model_name": "ProgressStyleModel",
            "description_width": "initial",
            "_view_module": "@jupyter-widgets/base",
            "_model_module_version": "1.5.0",
            "_view_count": null,
            "_view_module_version": "1.2.0",
            "bar_color": null,
            "_model_module": "@jupyter-widgets/controls"
          }
        },
        "9462930ebad641fe96e08241f6fb7319": {
          "model_module": "@jupyter-widgets/base",
          "model_name": "LayoutModel",
          "state": {
            "_view_name": "LayoutView",
            "grid_template_rows": null,
            "right": null,
            "justify_content": null,
            "_view_module": "@jupyter-widgets/base",
            "overflow": null,
            "_model_module_version": "1.2.0",
            "_view_count": null,
            "flex_flow": null,
            "width": null,
            "min_width": null,
            "border": null,
            "align_items": null,
            "bottom": null,
            "_model_module": "@jupyter-widgets/base",
            "top": null,
            "grid_column": null,
            "overflow_y": null,
            "overflow_x": null,
            "grid_auto_flow": null,
            "grid_area": null,
            "grid_template_columns": null,
            "flex": null,
            "_model_name": "LayoutModel",
            "justify_items": null,
            "grid_row": null,
            "max_height": null,
            "align_content": null,
            "visibility": null,
            "align_self": null,
            "height": null,
            "min_height": null,
            "padding": null,
            "grid_auto_rows": null,
            "grid_gap": null,
            "max_width": null,
            "order": null,
            "_view_module_version": "1.2.0",
            "grid_template_areas": null,
            "object_position": null,
            "object_fit": null,
            "grid_auto_columns": null,
            "margin": null,
            "display": null,
            "left": null
          }
        },
        "0674b7f9413c4a31b16aa72fde83e3ae": {
          "model_module": "@jupyter-widgets/controls",
          "model_name": "DescriptionStyleModel",
          "state": {
            "_view_name": "StyleView",
            "_model_name": "DescriptionStyleModel",
            "description_width": "",
            "_view_module": "@jupyter-widgets/base",
            "_model_module_version": "1.5.0",
            "_view_count": null,
            "_view_module_version": "1.2.0",
            "_model_module": "@jupyter-widgets/controls"
          }
        },
        "90d2ec3ccaff46d2a49d56ebae3665b2": {
          "model_module": "@jupyter-widgets/base",
          "model_name": "LayoutModel",
          "state": {
            "_view_name": "LayoutView",
            "grid_template_rows": null,
            "right": null,
            "justify_content": null,
            "_view_module": "@jupyter-widgets/base",
            "overflow": null,
            "_model_module_version": "1.2.0",
            "_view_count": null,
            "flex_flow": null,
            "width": null,
            "min_width": null,
            "border": null,
            "align_items": null,
            "bottom": null,
            "_model_module": "@jupyter-widgets/base",
            "top": null,
            "grid_column": null,
            "overflow_y": null,
            "overflow_x": null,
            "grid_auto_flow": null,
            "grid_area": null,
            "grid_template_columns": null,
            "flex": null,
            "_model_name": "LayoutModel",
            "justify_items": null,
            "grid_row": null,
            "max_height": null,
            "align_content": null,
            "visibility": null,
            "align_self": null,
            "height": null,
            "min_height": null,
            "padding": null,
            "grid_auto_rows": null,
            "grid_gap": null,
            "max_width": null,
            "order": null,
            "_view_module_version": "1.2.0",
            "grid_template_areas": null,
            "object_position": null,
            "object_fit": null,
            "grid_auto_columns": null,
            "margin": null,
            "display": null,
            "left": null
          }
        },
        "6be99603422a4fe98acfcd8bfc8f1781": {
          "model_module": "@jupyter-widgets/controls",
          "model_name": "HBoxModel",
          "state": {
            "_view_name": "HBoxView",
            "_dom_classes": [],
            "_model_name": "HBoxModel",
            "_view_module": "@jupyter-widgets/controls",
            "_model_module_version": "1.5.0",
            "_view_count": null,
            "_view_module_version": "1.5.0",
            "box_style": "",
            "layout": "IPY_MODEL_076afea0296b4612a460078f2e1d3d17",
            "_model_module": "@jupyter-widgets/controls",
            "children": [
              "IPY_MODEL_3733826e6cb14022b6f2136ae6625ab2",
              "IPY_MODEL_6785bd3585fc4377b07eadfb30954f95"
            ]
          }
        },
        "076afea0296b4612a460078f2e1d3d17": {
          "model_module": "@jupyter-widgets/base",
          "model_name": "LayoutModel",
          "state": {
            "_view_name": "LayoutView",
            "grid_template_rows": null,
            "right": null,
            "justify_content": null,
            "_view_module": "@jupyter-widgets/base",
            "overflow": null,
            "_model_module_version": "1.2.0",
            "_view_count": null,
            "flex_flow": null,
            "width": null,
            "min_width": null,
            "border": null,
            "align_items": null,
            "bottom": null,
            "_model_module": "@jupyter-widgets/base",
            "top": null,
            "grid_column": null,
            "overflow_y": null,
            "overflow_x": null,
            "grid_auto_flow": null,
            "grid_area": null,
            "grid_template_columns": null,
            "flex": null,
            "_model_name": "LayoutModel",
            "justify_items": null,
            "grid_row": null,
            "max_height": null,
            "align_content": null,
            "visibility": null,
            "align_self": null,
            "height": null,
            "min_height": null,
            "padding": null,
            "grid_auto_rows": null,
            "grid_gap": null,
            "max_width": null,
            "order": null,
            "_view_module_version": "1.2.0",
            "grid_template_areas": null,
            "object_position": null,
            "object_fit": null,
            "grid_auto_columns": null,
            "margin": null,
            "display": null,
            "left": null
          }
        },
        "3733826e6cb14022b6f2136ae6625ab2": {
          "model_module": "@jupyter-widgets/controls",
          "model_name": "FloatProgressModel",
          "state": {
            "_view_name": "ProgressView",
            "style": "IPY_MODEL_8e456df3fc9d4453a60e80ac7d55d640",
            "_dom_classes": [],
            "description": "",
            "_model_name": "FloatProgressModel",
            "bar_style": "success",
            "max": 1,
            "_view_module": "@jupyter-widgets/controls",
            "_model_module_version": "1.5.0",
            "value": 1,
            "_view_count": null,
            "_view_module_version": "1.5.0",
            "orientation": "horizontal",
            "min": 0,
            "description_tooltip": null,
            "_model_module": "@jupyter-widgets/controls",
            "layout": "IPY_MODEL_d06944aeb5ab4242a3e29018c768119b"
          }
        },
        "6785bd3585fc4377b07eadfb30954f95": {
          "model_module": "@jupyter-widgets/controls",
          "model_name": "HTMLModel",
          "state": {
            "_view_name": "HTMLView",
            "style": "IPY_MODEL_4c2ec5875e934dc694eb97e86985ac5c",
            "_dom_classes": [],
            "description": "",
            "_model_name": "HTMLModel",
            "placeholder": "​",
            "_view_module": "@jupyter-widgets/controls",
            "_model_module_version": "1.5.0",
            "value": " 32768/? [00:00&lt;00:00, 263734.59it/s]",
            "_view_count": null,
            "_view_module_version": "1.5.0",
            "description_tooltip": null,
            "_model_module": "@jupyter-widgets/controls",
            "layout": "IPY_MODEL_b21681c5860647e68585b0bfac4691f5"
          }
        },
        "8e456df3fc9d4453a60e80ac7d55d640": {
          "model_module": "@jupyter-widgets/controls",
          "model_name": "ProgressStyleModel",
          "state": {
            "_view_name": "StyleView",
            "_model_name": "ProgressStyleModel",
            "description_width": "initial",
            "_view_module": "@jupyter-widgets/base",
            "_model_module_version": "1.5.0",
            "_view_count": null,
            "_view_module_version": "1.2.0",
            "bar_color": null,
            "_model_module": "@jupyter-widgets/controls"
          }
        },
        "d06944aeb5ab4242a3e29018c768119b": {
          "model_module": "@jupyter-widgets/base",
          "model_name": "LayoutModel",
          "state": {
            "_view_name": "LayoutView",
            "grid_template_rows": null,
            "right": null,
            "justify_content": null,
            "_view_module": "@jupyter-widgets/base",
            "overflow": null,
            "_model_module_version": "1.2.0",
            "_view_count": null,
            "flex_flow": null,
            "width": null,
            "min_width": null,
            "border": null,
            "align_items": null,
            "bottom": null,
            "_model_module": "@jupyter-widgets/base",
            "top": null,
            "grid_column": null,
            "overflow_y": null,
            "overflow_x": null,
            "grid_auto_flow": null,
            "grid_area": null,
            "grid_template_columns": null,
            "flex": null,
            "_model_name": "LayoutModel",
            "justify_items": null,
            "grid_row": null,
            "max_height": null,
            "align_content": null,
            "visibility": null,
            "align_self": null,
            "height": null,
            "min_height": null,
            "padding": null,
            "grid_auto_rows": null,
            "grid_gap": null,
            "max_width": null,
            "order": null,
            "_view_module_version": "1.2.0",
            "grid_template_areas": null,
            "object_position": null,
            "object_fit": null,
            "grid_auto_columns": null,
            "margin": null,
            "display": null,
            "left": null
          }
        },
        "4c2ec5875e934dc694eb97e86985ac5c": {
          "model_module": "@jupyter-widgets/controls",
          "model_name": "DescriptionStyleModel",
          "state": {
            "_view_name": "StyleView",
            "_model_name": "DescriptionStyleModel",
            "description_width": "",
            "_view_module": "@jupyter-widgets/base",
            "_model_module_version": "1.5.0",
            "_view_count": null,
            "_view_module_version": "1.2.0",
            "_model_module": "@jupyter-widgets/controls"
          }
        },
        "b21681c5860647e68585b0bfac4691f5": {
          "model_module": "@jupyter-widgets/base",
          "model_name": "LayoutModel",
          "state": {
            "_view_name": "LayoutView",
            "grid_template_rows": null,
            "right": null,
            "justify_content": null,
            "_view_module": "@jupyter-widgets/base",
            "overflow": null,
            "_model_module_version": "1.2.0",
            "_view_count": null,
            "flex_flow": null,
            "width": null,
            "min_width": null,
            "border": null,
            "align_items": null,
            "bottom": null,
            "_model_module": "@jupyter-widgets/base",
            "top": null,
            "grid_column": null,
            "overflow_y": null,
            "overflow_x": null,
            "grid_auto_flow": null,
            "grid_area": null,
            "grid_template_columns": null,
            "flex": null,
            "_model_name": "LayoutModel",
            "justify_items": null,
            "grid_row": null,
            "max_height": null,
            "align_content": null,
            "visibility": null,
            "align_self": null,
            "height": null,
            "min_height": null,
            "padding": null,
            "grid_auto_rows": null,
            "grid_gap": null,
            "max_width": null,
            "order": null,
            "_view_module_version": "1.2.0",
            "grid_template_areas": null,
            "object_position": null,
            "object_fit": null,
            "grid_auto_columns": null,
            "margin": null,
            "display": null,
            "left": null
          }
        },
        "d221090f9fd943938d567f3548bdfe8f": {
          "model_module": "@jupyter-widgets/controls",
          "model_name": "HBoxModel",
          "state": {
            "_view_name": "HBoxView",
            "_dom_classes": [],
            "_model_name": "HBoxModel",
            "_view_module": "@jupyter-widgets/controls",
            "_model_module_version": "1.5.0",
            "_view_count": null,
            "_view_module_version": "1.5.0",
            "box_style": "",
            "layout": "IPY_MODEL_6ffc36f1c29e4b3fbf50dfe36bb15ac9",
            "_model_module": "@jupyter-widgets/controls",
            "children": [
              "IPY_MODEL_4472667efcab489fa7ef0b2521be1653",
              "IPY_MODEL_eb5a5133f4104f9eb202770878371442"
            ]
          }
        },
        "6ffc36f1c29e4b3fbf50dfe36bb15ac9": {
          "model_module": "@jupyter-widgets/base",
          "model_name": "LayoutModel",
          "state": {
            "_view_name": "LayoutView",
            "grid_template_rows": null,
            "right": null,
            "justify_content": null,
            "_view_module": "@jupyter-widgets/base",
            "overflow": null,
            "_model_module_version": "1.2.0",
            "_view_count": null,
            "flex_flow": null,
            "width": null,
            "min_width": null,
            "border": null,
            "align_items": null,
            "bottom": null,
            "_model_module": "@jupyter-widgets/base",
            "top": null,
            "grid_column": null,
            "overflow_y": null,
            "overflow_x": null,
            "grid_auto_flow": null,
            "grid_area": null,
            "grid_template_columns": null,
            "flex": null,
            "_model_name": "LayoutModel",
            "justify_items": null,
            "grid_row": null,
            "max_height": null,
            "align_content": null,
            "visibility": null,
            "align_self": null,
            "height": null,
            "min_height": null,
            "padding": null,
            "grid_auto_rows": null,
            "grid_gap": null,
            "max_width": null,
            "order": null,
            "_view_module_version": "1.2.0",
            "grid_template_areas": null,
            "object_position": null,
            "object_fit": null,
            "grid_auto_columns": null,
            "margin": null,
            "display": null,
            "left": null
          }
        },
        "4472667efcab489fa7ef0b2521be1653": {
          "model_module": "@jupyter-widgets/controls",
          "model_name": "FloatProgressModel",
          "state": {
            "_view_name": "ProgressView",
            "style": "IPY_MODEL_fe7753220a664bdaa17b03d5dd87bbaa",
            "_dom_classes": [],
            "description": "",
            "_model_name": "FloatProgressModel",
            "bar_style": "info",
            "max": 1,
            "_view_module": "@jupyter-widgets/controls",
            "_model_module_version": "1.5.0",
            "value": 1,
            "_view_count": null,
            "_view_module_version": "1.5.0",
            "orientation": "horizontal",
            "min": 0,
            "description_tooltip": null,
            "_model_module": "@jupyter-widgets/controls",
            "layout": "IPY_MODEL_73be64969485490d82ba64c14c0f3c57"
          }
        },
        "eb5a5133f4104f9eb202770878371442": {
          "model_module": "@jupyter-widgets/controls",
          "model_name": "HTMLModel",
          "state": {
            "_view_name": "HTMLView",
            "style": "IPY_MODEL_fef1ca9d9fa4414f87534c7ae4bf79e3",
            "_dom_classes": [],
            "description": "",
            "_model_name": "HTMLModel",
            "placeholder": "​",
            "_view_module": "@jupyter-widgets/controls",
            "_model_module_version": "1.5.0",
            "value": " 1654784/? [00:19&lt;00:00, 9420135.20it/s]",
            "_view_count": null,
            "_view_module_version": "1.5.0",
            "description_tooltip": null,
            "_model_module": "@jupyter-widgets/controls",
            "layout": "IPY_MODEL_ba95827a1c754b76b3c5be454f1d4103"
          }
        },
        "fe7753220a664bdaa17b03d5dd87bbaa": {
          "model_module": "@jupyter-widgets/controls",
          "model_name": "ProgressStyleModel",
          "state": {
            "_view_name": "StyleView",
            "_model_name": "ProgressStyleModel",
            "description_width": "initial",
            "_view_module": "@jupyter-widgets/base",
            "_model_module_version": "1.5.0",
            "_view_count": null,
            "_view_module_version": "1.2.0",
            "bar_color": null,
            "_model_module": "@jupyter-widgets/controls"
          }
        },
        "73be64969485490d82ba64c14c0f3c57": {
          "model_module": "@jupyter-widgets/base",
          "model_name": "LayoutModel",
          "state": {
            "_view_name": "LayoutView",
            "grid_template_rows": null,
            "right": null,
            "justify_content": null,
            "_view_module": "@jupyter-widgets/base",
            "overflow": null,
            "_model_module_version": "1.2.0",
            "_view_count": null,
            "flex_flow": null,
            "width": null,
            "min_width": null,
            "border": null,
            "align_items": null,
            "bottom": null,
            "_model_module": "@jupyter-widgets/base",
            "top": null,
            "grid_column": null,
            "overflow_y": null,
            "overflow_x": null,
            "grid_auto_flow": null,
            "grid_area": null,
            "grid_template_columns": null,
            "flex": null,
            "_model_name": "LayoutModel",
            "justify_items": null,
            "grid_row": null,
            "max_height": null,
            "align_content": null,
            "visibility": null,
            "align_self": null,
            "height": null,
            "min_height": null,
            "padding": null,
            "grid_auto_rows": null,
            "grid_gap": null,
            "max_width": null,
            "order": null,
            "_view_module_version": "1.2.0",
            "grid_template_areas": null,
            "object_position": null,
            "object_fit": null,
            "grid_auto_columns": null,
            "margin": null,
            "display": null,
            "left": null
          }
        },
        "fef1ca9d9fa4414f87534c7ae4bf79e3": {
          "model_module": "@jupyter-widgets/controls",
          "model_name": "DescriptionStyleModel",
          "state": {
            "_view_name": "StyleView",
            "_model_name": "DescriptionStyleModel",
            "description_width": "",
            "_view_module": "@jupyter-widgets/base",
            "_model_module_version": "1.5.0",
            "_view_count": null,
            "_view_module_version": "1.2.0",
            "_model_module": "@jupyter-widgets/controls"
          }
        },
        "ba95827a1c754b76b3c5be454f1d4103": {
          "model_module": "@jupyter-widgets/base",
          "model_name": "LayoutModel",
          "state": {
            "_view_name": "LayoutView",
            "grid_template_rows": null,
            "right": null,
            "justify_content": null,
            "_view_module": "@jupyter-widgets/base",
            "overflow": null,
            "_model_module_version": "1.2.0",
            "_view_count": null,
            "flex_flow": null,
            "width": null,
            "min_width": null,
            "border": null,
            "align_items": null,
            "bottom": null,
            "_model_module": "@jupyter-widgets/base",
            "top": null,
            "grid_column": null,
            "overflow_y": null,
            "overflow_x": null,
            "grid_auto_flow": null,
            "grid_area": null,
            "grid_template_columns": null,
            "flex": null,
            "_model_name": "LayoutModel",
            "justify_items": null,
            "grid_row": null,
            "max_height": null,
            "align_content": null,
            "visibility": null,
            "align_self": null,
            "height": null,
            "min_height": null,
            "padding": null,
            "grid_auto_rows": null,
            "grid_gap": null,
            "max_width": null,
            "order": null,
            "_view_module_version": "1.2.0",
            "grid_template_areas": null,
            "object_position": null,
            "object_fit": null,
            "grid_auto_columns": null,
            "margin": null,
            "display": null,
            "left": null
          }
        },
        "53fb478e01d846aa87cee9b5549e9c3b": {
          "model_module": "@jupyter-widgets/controls",
          "model_name": "HBoxModel",
          "state": {
            "_view_name": "HBoxView",
            "_dom_classes": [],
            "_model_name": "HBoxModel",
            "_view_module": "@jupyter-widgets/controls",
            "_model_module_version": "1.5.0",
            "_view_count": null,
            "_view_module_version": "1.5.0",
            "box_style": "",
            "layout": "IPY_MODEL_c3ccad3c2fea415d87b9b41b4a7985fe",
            "_model_module": "@jupyter-widgets/controls",
            "children": [
              "IPY_MODEL_80aba2b7bf3646dbbaa65e9fe80ded98",
              "IPY_MODEL_aaaa7b29b50c4d9292bdce588928fa05"
            ]
          }
        },
        "c3ccad3c2fea415d87b9b41b4a7985fe": {
          "model_module": "@jupyter-widgets/base",
          "model_name": "LayoutModel",
          "state": {
            "_view_name": "LayoutView",
            "grid_template_rows": null,
            "right": null,
            "justify_content": null,
            "_view_module": "@jupyter-widgets/base",
            "overflow": null,
            "_model_module_version": "1.2.0",
            "_view_count": null,
            "flex_flow": null,
            "width": null,
            "min_width": null,
            "border": null,
            "align_items": null,
            "bottom": null,
            "_model_module": "@jupyter-widgets/base",
            "top": null,
            "grid_column": null,
            "overflow_y": null,
            "overflow_x": null,
            "grid_auto_flow": null,
            "grid_area": null,
            "grid_template_columns": null,
            "flex": null,
            "_model_name": "LayoutModel",
            "justify_items": null,
            "grid_row": null,
            "max_height": null,
            "align_content": null,
            "visibility": null,
            "align_self": null,
            "height": null,
            "min_height": null,
            "padding": null,
            "grid_auto_rows": null,
            "grid_gap": null,
            "max_width": null,
            "order": null,
            "_view_module_version": "1.2.0",
            "grid_template_areas": null,
            "object_position": null,
            "object_fit": null,
            "grid_auto_columns": null,
            "margin": null,
            "display": null,
            "left": null
          }
        },
        "80aba2b7bf3646dbbaa65e9fe80ded98": {
          "model_module": "@jupyter-widgets/controls",
          "model_name": "FloatProgressModel",
          "state": {
            "_view_name": "ProgressView",
            "style": "IPY_MODEL_e50ddf33d00b4d779ecacf7d0e2eeb9e",
            "_dom_classes": [],
            "description": "",
            "_model_name": "FloatProgressModel",
            "bar_style": "success",
            "max": 1,
            "_view_module": "@jupyter-widgets/controls",
            "_model_module_version": "1.5.0",
            "value": 1,
            "_view_count": null,
            "_view_module_version": "1.5.0",
            "orientation": "horizontal",
            "min": 0,
            "description_tooltip": null,
            "_model_module": "@jupyter-widgets/controls",
            "layout": "IPY_MODEL_98009cbab6df4969a3a4ab6217dc4c23"
          }
        },
        "aaaa7b29b50c4d9292bdce588928fa05": {
          "model_module": "@jupyter-widgets/controls",
          "model_name": "HTMLModel",
          "state": {
            "_view_name": "HTMLView",
            "style": "IPY_MODEL_ec58a5271f2c4506ae4cf0f56feb344f",
            "_dom_classes": [],
            "description": "",
            "_model_name": "HTMLModel",
            "placeholder": "​",
            "_view_module": "@jupyter-widgets/controls",
            "_model_module_version": "1.5.0",
            "value": " 8192/? [00:04&lt;00:00, 1655.02it/s]",
            "_view_count": null,
            "_view_module_version": "1.5.0",
            "description_tooltip": null,
            "_model_module": "@jupyter-widgets/controls",
            "layout": "IPY_MODEL_38d40d0b6a5e4213857148fe3b596d3d"
          }
        },
        "e50ddf33d00b4d779ecacf7d0e2eeb9e": {
          "model_module": "@jupyter-widgets/controls",
          "model_name": "ProgressStyleModel",
          "state": {
            "_view_name": "StyleView",
            "_model_name": "ProgressStyleModel",
            "description_width": "initial",
            "_view_module": "@jupyter-widgets/base",
            "_model_module_version": "1.5.0",
            "_view_count": null,
            "_view_module_version": "1.2.0",
            "bar_color": null,
            "_model_module": "@jupyter-widgets/controls"
          }
        },
        "98009cbab6df4969a3a4ab6217dc4c23": {
          "model_module": "@jupyter-widgets/base",
          "model_name": "LayoutModel",
          "state": {
            "_view_name": "LayoutView",
            "grid_template_rows": null,
            "right": null,
            "justify_content": null,
            "_view_module": "@jupyter-widgets/base",
            "overflow": null,
            "_model_module_version": "1.2.0",
            "_view_count": null,
            "flex_flow": null,
            "width": null,
            "min_width": null,
            "border": null,
            "align_items": null,
            "bottom": null,
            "_model_module": "@jupyter-widgets/base",
            "top": null,
            "grid_column": null,
            "overflow_y": null,
            "overflow_x": null,
            "grid_auto_flow": null,
            "grid_area": null,
            "grid_template_columns": null,
            "flex": null,
            "_model_name": "LayoutModel",
            "justify_items": null,
            "grid_row": null,
            "max_height": null,
            "align_content": null,
            "visibility": null,
            "align_self": null,
            "height": null,
            "min_height": null,
            "padding": null,
            "grid_auto_rows": null,
            "grid_gap": null,
            "max_width": null,
            "order": null,
            "_view_module_version": "1.2.0",
            "grid_template_areas": null,
            "object_position": null,
            "object_fit": null,
            "grid_auto_columns": null,
            "margin": null,
            "display": null,
            "left": null
          }
        },
        "ec58a5271f2c4506ae4cf0f56feb344f": {
          "model_module": "@jupyter-widgets/controls",
          "model_name": "DescriptionStyleModel",
          "state": {
            "_view_name": "StyleView",
            "_model_name": "DescriptionStyleModel",
            "description_width": "",
            "_view_module": "@jupyter-widgets/base",
            "_model_module_version": "1.5.0",
            "_view_count": null,
            "_view_module_version": "1.2.0",
            "_model_module": "@jupyter-widgets/controls"
          }
        },
        "38d40d0b6a5e4213857148fe3b596d3d": {
          "model_module": "@jupyter-widgets/base",
          "model_name": "LayoutModel",
          "state": {
            "_view_name": "LayoutView",
            "grid_template_rows": null,
            "right": null,
            "justify_content": null,
            "_view_module": "@jupyter-widgets/base",
            "overflow": null,
            "_model_module_version": "1.2.0",
            "_view_count": null,
            "flex_flow": null,
            "width": null,
            "min_width": null,
            "border": null,
            "align_items": null,
            "bottom": null,
            "_model_module": "@jupyter-widgets/base",
            "top": null,
            "grid_column": null,
            "overflow_y": null,
            "overflow_x": null,
            "grid_auto_flow": null,
            "grid_area": null,
            "grid_template_columns": null,
            "flex": null,
            "_model_name": "LayoutModel",
            "justify_items": null,
            "grid_row": null,
            "max_height": null,
            "align_content": null,
            "visibility": null,
            "align_self": null,
            "height": null,
            "min_height": null,
            "padding": null,
            "grid_auto_rows": null,
            "grid_gap": null,
            "max_width": null,
            "order": null,
            "_view_module_version": "1.2.0",
            "grid_template_areas": null,
            "object_position": null,
            "object_fit": null,
            "grid_auto_columns": null,
            "margin": null,
            "display": null,
            "left": null
          }
        }
      }
    }
  },
  "cells": [
    {
      "cell_type": "markdown",
      "metadata": {
        "id": "qraf2Xsjzgym",
        "colab_type": "text"
      },
      "source": [
        "# Neural Network from Scratch for the MNIST Dataset (No ML Libraries)"
      ]
    },
    {
      "cell_type": "code",
      "metadata": {
        "id": "vTSdN75OhhSx",
        "colab_type": "code",
        "colab": {}
      },
      "source": [
        "# necessary imports\n",
        "import numpy as np\n",
        "import h5py\n",
        "import time\n",
        "import copy\n",
        "import matplotlib.pyplot as plt\n",
        "from random import randint"
      ],
      "execution_count": null,
      "outputs": []
    },
    {
      "cell_type": "markdown",
      "metadata": {
        "id": "GyJvhKGMzw7-",
        "colab_type": "text"
      },
      "source": [
        "# The h5py Filetype allows us to Save lots of Binary Data in a Single File"
      ]
    },
    {
      "cell_type": "code",
      "metadata": {
        "id": "kc_zkwXSy5ob",
        "colab_type": "code",
        "colab": {}
      },
      "source": [
        "# loading the MNIST dataset\n",
        "MNIST_data = h5py.File('MNISTdata.hdf5', 'r')\n",
        "x_train = np.float32(MNIST_data['x_train'][:])\n",
        "y_train = np.int32(np.array(MNIST_data['y_train'][:, 0]))\n",
        "x_test = np.float32(MNIST_data['x_test'][:])\n",
        "y_test = np.int32(np.array(MNIST_data['y_test'][:, 0]))\n",
        "MNIST_data.close()"
      ],
      "execution_count": null,
      "outputs": []
    },
    {
      "cell_type": "markdown",
      "metadata": {
        "id": "aQOPfbKM0BK2",
        "colab_type": "text"
      },
      "source": [
        "# Designing our Neural Network using Gradient Descent\n"
      ]
    },
    {
      "cell_type": "code",
      "metadata": {
        "id": "KVrTzCUAy-iK",
        "colab_type": "code",
        "colab": {}
      },
      "source": [
        "# implementing the neural network\n",
        "\n",
        "class NeuralNetwork:\n",
        "    layer1 = {}\n",
        "    layer2 = {}\n",
        "\n",
        "    def __init__(self, inputsize, hiddensize, outputsize):\n",
        "        # initializing parameters and biases \n",
        "        self.layer1['parameters'] = np.random.randn(hiddensize, inputsize) / np.sqrt(inputsize)\n",
        "        self.layer1['bias'] = np.random.randn(hiddensize, 1) / np.sqrt(hiddensize)\n",
        "        self.layer2['parameters'] = np.random.randn(outputsize, hiddensize) / np.sqrt(hiddensize)\n",
        "        self.layer2['bias'] = np.random.randn(outputsize, 1) / np.sqrt(hiddensize)\n",
        "        self.inputSize = inputsize\n",
        "        self.hiddenSize = hiddensize\n",
        "        self.outputSize = outputsize\n",
        "\n",
        "    def activation_function(self, Z, type = 'ReLU', derivative = False):\n",
        "        # ReLU Activation Function\n",
        "        if derivative == True:\n",
        "            return np.array([1 if i > 0 else 0 for i in np.squeeze(Z)])\n",
        "        else:\n",
        "            return np.array([i if i > 0 else 0 for i in np.squeeze(Z)])\n",
        "\n",
        "    def soft_max(self, z):\n",
        "        # softmax function\n",
        "        return 1/sum(np.exp(z)) * np.exp(z)\n",
        "\n",
        "    def forward_computation(self, x, y):\n",
        "        # implement the forward computation, calculation of prediction list\n",
        "        Z = np.matmul(self.layer1['parameters'], x).reshape((self.hiddenSize, 1)) + self.layer1['bias']\n",
        "        H = np.array(self.activation_function(Z)).reshape((self.hiddenSize, 1))\n",
        "        U = np.matmul(self.layer2['parameters'], H).reshape((self.outputSize, 1)) + self.layer2['bias']\n",
        "        predictions = np.squeeze(self.soft_max(U))\n",
        "        \n",
        "        forwardProp = {\n",
        "            'Z':Z,\n",
        "            'H':H,\n",
        "            'U':U,\n",
        "            'f_X':predictions.reshape((1, self.outputSize))\n",
        "        }\n",
        "        return forwardProp\n",
        "\n",
        "    def back_propagation(self, x, y, forwardPropResult):\n",
        "        # implement the back propagation process, compute the gradients\n",
        "        E = np.array([0] * self.outputSize).reshape((1, self.outputSize))\n",
        "        E[0][y] = 1\n",
        "        dU = (-(E - forwardPropResult['f_X'])).reshape((self.outputSize,1))\n",
        "        db_2 = copy.copy(dU)\n",
        "        dC = np.matmul(dU,forwardPropResult['H'].transpose())\n",
        "        delta = np.matmul(self.layer2['parameters'].transpose(), dU)\n",
        "        db_1 = delta.reshape(self.hiddenSize, 1)*self.activation_function(forwardPropResult['Z'], derivative=True).reshape(self.hiddenSize, 1)\n",
        "        dW = np.matmul(db_1.reshape((self.hiddenSize,1)),x.reshape((1, 784)))\n",
        "\n",
        "        back_prop = {\n",
        "            'dC':dC,\n",
        "            'db_2':db_2,\n",
        "            'db_1':db_1,\n",
        "            'dW':dW\n",
        "        }\n",
        "        return back_prop\n",
        "\n",
        "    def optimizer(self,backPropResult, learningRate):\n",
        "        # update the hyperparameters\n",
        "        self.layer2['parameters'] -= learningRate*backPropResult['dC']\n",
        "        self.layer2['bias'] -= learningRate*backPropResult['db_2']\n",
        "        self.layer1['bias'] -= learningRate*backPropResult['db_1']\n",
        "        self.layer1['parameters'] -= learningRate*backPropResult['dW']\n",
        "\n",
        "    def train(self, x_Train, y_Train, iterationCount, learningRate):\n",
        "        # generate a random list of indices for the training set\n",
        "        randomIndex = np.random.choice(len(x_Train), iterationCount, replace=True)\n",
        "        \n",
        "        def learning_rate(originalLearningRate, iteration, iterationCount, schedule = False):\n",
        "        # determine whether to use the learning schedule\n",
        "            if schedule == True:\n",
        "                return originalLearningRate * 10 ** (-np.floor(iteration / iterationCount * 5))\n",
        "            else:\n",
        "                return originalLearningRate\n",
        "\n",
        "        count = 1\n",
        "        testingDictionary = {}\n",
        "\n",
        "        for i in randomIndex:\n",
        "            forwardPropResult = self.forward_computation(x_Train[i], y_Train[i])\n",
        "            backPropResult = self.back_propagation(x_Train[i], y_Train[i], forwardPropResult)\n",
        "            self.optimizer(backPropResult, learning_rate(learningRate, i, iterationCount, True))\n",
        "            \n",
        "            if count % 1000 == 0:\n",
        "                print('{} training iterations complete. Accuracy ='.format(count))\n",
        "                temp, test = self.test(x_test, y_test)                                        \n",
        "                testingDictionary[count] = test\n",
        "            count += 1\n",
        "\n",
        "        print('Training complete!\\n\\n')\n",
        "        return testingDictionary\n",
        "\n",
        "    def test(self, x_Test, y_Test):\n",
        "        # test the NNModel on the training dataset\n",
        "        predictions = []\n",
        "        correctPredictions = 0\n",
        "        for n in range(len(x_Test)):\n",
        "            y = y_Test[n]\n",
        "            x = x_Test[n][:]\n",
        "            prediction = np.argmax(self.forward_computation(x, y)['f_X'])\n",
        "            predictions.append(prediction)\n",
        "            if (prediction == y):\n",
        "                correctPredictions += 1            \n",
        "        print('\\b', 100 * correctPredictions / len(x_Test))\n",
        "        return predictions, correctPredictions / np.float(len(x_Test))"
      ],
      "execution_count": null,
      "outputs": []
    },
    {
      "cell_type": "markdown",
      "metadata": {
        "id": "9wQvItf40Kda",
        "colab_type": "text"
      },
      "source": [
        "# Training and Testing our Neural Network"
      ]
    },
    {
      "cell_type": "code",
      "metadata": {
        "id": "OyPHr7ngzCLk",
        "colab_type": "code",
        "colab": {}
      },
      "source": [
        "# set the number of iterations\n",
        "iterationCount = 40000\n",
        "# set the base learning rate\n",
        "learningRate = 0.01\n",
        "# number of inputs\n",
        "numInputs = 28*28\n",
        "# number of outputs\n",
        "numOutputs = 10\n",
        "# size of hidden layer\n",
        "hiddenSize = 300"
      ],
      "execution_count": null,
      "outputs": []
    },
    {
      "cell_type": "code",
      "metadata": {
        "id": "tb6FoYegzD9E",
        "colab_type": "code",
        "colab": {
          "base_uri": "https://localhost:8080/",
          "height": 799
        },
        "outputId": "a9ae426a-49ab-45f0-ba9c-79b6ab884995"
      },
      "source": [
        "# fitting our model\n",
        "NNModel = NeuralNetwork(numInputs, hiddenSize, numOutputs)\n",
        "# training our model\n",
        "print(\"****** Training the Model ******\")\n",
        "testingDictionary = NNModel.train(x_train, y_train, iterationCount, learningRate)\n",
        "# evaluating our model\n",
        "print(\"****** Testing the Model ******\")\n",
        "print(\"Testing Accuracy = \")\n",
        "predictions, accuracy = NNModel.test(x_test, y_test)"
      ],
      "execution_count": null,
      "outputs": [
        {
          "output_type": "stream",
          "text": [
            "****** Training the Model ******\n",
            "1000 training iterations complete. Accuracy =\n",
            "\b 53.65\n",
            "2000 training iterations complete. Accuracy =\n",
            "\b 76.34\n",
            "3000 training iterations complete. Accuracy =\n",
            "\b 72.01\n",
            "4000 training iterations complete. Accuracy =\n",
            "\b 79.27\n",
            "5000 training iterations complete. Accuracy =\n",
            "\b 80.96\n",
            "6000 training iterations complete. Accuracy =\n",
            "\b 83.06\n",
            "7000 training iterations complete. Accuracy =\n",
            "\b 83.22\n",
            "8000 training iterations complete. Accuracy =\n",
            "\b 83.83\n",
            "9000 training iterations complete. Accuracy =\n",
            "\b 86.11\n",
            "10000 training iterations complete. Accuracy =\n",
            "\b 85.03\n",
            "11000 training iterations complete. Accuracy =\n",
            "\b 86.46\n",
            "12000 training iterations complete. Accuracy =\n",
            "\b 87.45\n",
            "13000 training iterations complete. Accuracy =\n",
            "\b 87.54\n",
            "14000 training iterations complete. Accuracy =\n",
            "\b 85.25\n",
            "15000 training iterations complete. Accuracy =\n",
            "\b 84.47\n",
            "16000 training iterations complete. Accuracy =\n",
            "\b 87.62\n",
            "17000 training iterations complete. Accuracy =\n",
            "\b 86.87\n",
            "18000 training iterations complete. Accuracy =\n",
            "\b 87.4\n",
            "19000 training iterations complete. Accuracy =\n",
            "\b 88.29\n",
            "20000 training iterations complete. Accuracy =\n",
            "\b 87.86\n",
            "21000 training iterations complete. Accuracy =\n",
            "\b 88.94\n",
            "22000 training iterations complete. Accuracy =\n",
            "\b 87.96\n",
            "23000 training iterations complete. Accuracy =\n",
            "\b 85.06\n",
            "24000 training iterations complete. Accuracy =\n",
            "\b 89.75\n",
            "25000 training iterations complete. Accuracy =\n",
            "\b 88.19\n",
            "26000 training iterations complete. Accuracy =\n",
            "\b 88.66\n",
            "27000 training iterations complete. Accuracy =\n",
            "\b 88.16\n",
            "28000 training iterations complete. Accuracy =\n",
            "\b 88.39\n",
            "29000 training iterations complete. Accuracy =\n",
            "\b 87.88\n",
            "30000 training iterations complete. Accuracy =\n",
            "\b 90.49\n",
            "31000 training iterations complete. Accuracy =\n",
            "\b 90.93\n",
            "32000 training iterations complete. Accuracy =\n",
            "\b 88.61\n",
            "33000 training iterations complete. Accuracy =\n",
            "\b 89.55\n",
            "34000 training iterations complete. Accuracy =\n",
            "\b 89.52\n",
            "35000 training iterations complete. Accuracy =\n",
            "\b 90.46\n",
            "36000 training iterations complete. Accuracy =\n",
            "\b 90.57\n",
            "37000 training iterations complete. Accuracy =\n",
            "\b 90.63\n",
            "38000 training iterations complete. Accuracy =\n",
            "\b 89.67\n",
            "39000 training iterations complete. Accuracy =\n",
            "\b 88.89\n",
            "40000 training iterations complete. Accuracy =\n",
            "\b 90.55\n",
            "Training complete!\n",
            "\n",
            "\n",
            "****** Testing the Model ******\n",
            "Testing Accuracy = \n",
            "\b 90.55\n"
          ],
          "name": "stdout"
        }
      ]
    },
    {
      "cell_type": "markdown",
      "metadata": {
        "id": "Btui167-0QEy",
        "colab_type": "text"
      },
      "source": [
        "# Plotting the Results"
      ]
    },
    {
      "cell_type": "code",
      "metadata": {
        "id": "2auRSjVgy1bh",
        "colab_type": "code",
        "colab": {
          "base_uri": "https://localhost:8080/",
          "height": 318
        },
        "outputId": "a665b88b-0d03-47fc-a7ab-7b3eb5b71e64"
      },
      "source": [
        "# plotting the results\n",
        "plt.plot(list(testingDictionary.keys()), list(testingDictionary.values()))\n",
        "plt.ylabel('Test Accuracy')\n",
        "plt.xlabel('Number of iterations')\n",
        "plt.xticks(rotation=60)\n",
        "plt.title('Testing Accuracy Graph')\n",
        "plt.show()"
      ],
      "execution_count": null,
      "outputs": [
        {
          "output_type": "display_data",
          "data": {
            "image/png": "[encoded data removed]",
            "text/plain": [
              "<Figure size 432x288 with 1 Axes>"
            ]
          },
          "metadata": {
            "tags": [],
            "needs_background": "light"
          }
        }
      ]
    },
    {
      "cell_type": "markdown",
      "metadata": {
        "id": "S4zAkluFFFQA",
        "colab_type": "text"
      },
      "source": [
        "# Displaying Images of Correctly Predicted Integers"
      ]
    },
    {
      "cell_type": "code",
      "metadata": {
        "id": "_ie2116P7piU",
        "colab_type": "code",
        "colab": {
          "base_uri": "https://localhost:8080/",
          "height": 403,
          "referenced_widgets": [
            "4ec3e1419ede4481a54641d977e0bbcd",
            "ea3ac4d92aca4790bd94a714aa6ef1ac",
            "926e251043c547d385fca67f2d1171c7",
            "ecda3285152046a3987eab327fc73e14",
            "6f5774d3a8a04dcc8b8ef800eee05a2d",
            "9462930ebad641fe96e08241f6fb7319",
            "0674b7f9413c4a31b16aa72fde83e3ae",
            "90d2ec3ccaff46d2a49d56ebae3665b2",
            "6be99603422a4fe98acfcd8bfc8f1781",
            "076afea0296b4612a460078f2e1d3d17",
            "3733826e6cb14022b6f2136ae6625ab2",
            "6785bd3585fc4377b07eadfb30954f95",
            "8e456df3fc9d4453a60e80ac7d55d640",
            "d06944aeb5ab4242a3e29018c768119b",
            "4c2ec5875e934dc694eb97e86985ac5c",
            "b21681c5860647e68585b0bfac4691f5",
            "d221090f9fd943938d567f3548bdfe8f",
            "6ffc36f1c29e4b3fbf50dfe36bb15ac9",
            "4472667efcab489fa7ef0b2521be1653",
            "eb5a5133f4104f9eb202770878371442",
            "fe7753220a664bdaa17b03d5dd87bbaa",
            "73be64969485490d82ba64c14c0f3c57",
            "fef1ca9d9fa4414f87534c7ae4bf79e3",
            "ba95827a1c754b76b3c5be454f1d4103",
            "53fb478e01d846aa87cee9b5549e9c3b",
            "c3ccad3c2fea415d87b9b41b4a7985fe",
            "80aba2b7bf3646dbbaa65e9fe80ded98",
            "aaaa7b29b50c4d9292bdce588928fa05",
            "e50ddf33d00b4d779ecacf7d0e2eeb9e",
            "98009cbab6df4969a3a4ab6217dc4c23",
            "ec58a5271f2c4506ae4cf0f56feb344f",
            "38d40d0b6a5e4213857148fe3b596d3d"
          ]
        },
        "outputId": "12f1dfc8-253f-464e-ed5b-3b2d109782d5"
      },
      "source": [
        "# imports for loading the test-dataset into DataLoader\n",
        "from  torch.utils.data import DataLoader\n",
        "from torchvision import *\n",
        "from sklearn.metrics import confusion_matrix, classification_report\n",
        "\n",
        "# loading the test data into DataLoader\n",
        "testingData = DataLoader(datasets.MNIST('./datasets', train=False, download=True, transform=transforms.Compose([transforms.ToTensor()])), batch_size=128)"
      ],
      "execution_count": null,
      "outputs": [
        {
          "output_type": "stream",
          "text": [
            "Downloading http://yann.lecun.com/exdb/mnist/train-images-idx3-ubyte.gz to ./datasets/MNIST/raw/train-images-idx3-ubyte.gz\n"
          ],
          "name": "stdout"
        },
        {
          "output_type": "display_data",
          "data": {
            "application/vnd.jupyter.widget-view+json": {
              "model_id": "4ec3e1419ede4481a54641d977e0bbcd",
              "version_minor": 0,
              "version_major": 2
            },
            "text/plain": [
              "HBox(children=(FloatProgress(value=1.0, bar_style='info', max=1.0), HTML(value='')))"
            ]
          },
          "metadata": {
            "tags": []
          }
        },
        {
          "output_type": "stream",
          "text": [
            "Extracting ./datasets/MNIST/raw/train-images-idx3-ubyte.gz to ./datasets/MNIST/raw\n",
            "Downloading http://yann.lecun.com/exdb/mnist/train-labels-idx1-ubyte.gz to ./datasets/MNIST/raw/train-labels-idx1-ubyte.gz\n"
          ],
          "name": "stdout"
        },
        {
          "output_type": "display_data",
          "data": {
            "application/vnd.jupyter.widget-view+json": {
              "model_id": "6be99603422a4fe98acfcd8bfc8f1781",
              "version_minor": 0,
              "version_major": 2
            },
            "text/plain": [
              "HBox(children=(FloatProgress(value=1.0, bar_style='info', max=1.0), HTML(value='')))"
            ]
          },
          "metadata": {
            "tags": []
          }
        },
        {
          "output_type": "stream",
          "text": [
            "Extracting ./datasets/MNIST/raw/train-labels-idx1-ubyte.gz to ./datasets/MNIST/raw\n",
            "Downloading http://yann.lecun.com/exdb/mnist/t10k-images-idx3-ubyte.gz to ./datasets/MNIST/raw/t10k-images-idx3-ubyte.gz\n",
            "\n",
            "\n"
          ],
          "name": "stdout"
        },
        {
          "output_type": "display_data",
          "data": {
            "application/vnd.jupyter.widget-view+json": {
              "model_id": "d221090f9fd943938d567f3548bdfe8f",
              "version_minor": 0,
              "version_major": 2
            },
            "text/plain": [
              "HBox(children=(FloatProgress(value=1.0, bar_style='info', max=1.0), HTML(value='')))"
            ]
          },
          "metadata": {
            "tags": []
          }
        },
        {
          "output_type": "stream",
          "text": [
            "Extracting ./datasets/MNIST/raw/t10k-images-idx3-ubyte.gz to ./datasets/MNIST/raw\n",
            "Downloading http://yann.lecun.com/exdb/mnist/t10k-labels-idx1-ubyte.gz to ./datasets/MNIST/raw/t10k-labels-idx1-ubyte.gz\n"
          ],
          "name": "stdout"
        },
        {
          "output_type": "display_data",
          "data": {
            "application/vnd.jupyter.widget-view+json": {
              "model_id": "53fb478e01d846aa87cee9b5549e9c3b",
              "version_minor": 0,
              "version_major": 2
            },
            "text/plain": [
              "HBox(children=(FloatProgress(value=1.0, bar_style='info', max=1.0), HTML(value='')))"
            ]
          },
          "metadata": {
            "tags": []
          }
        },
        {
          "output_type": "stream",
          "text": [
            "Extracting ./datasets/MNIST/raw/t10k-labels-idx1-ubyte.gz to ./datasets/MNIST/raw\n",
            "Processing...\n",
            "Done!\n"
          ],
          "name": "stdout"
        },
        {
          "output_type": "stream",
          "text": [
            "/usr/local/lib/python3.6/dist-packages/torchvision/datasets/mnist.py:469: UserWarning: The given NumPy array is not writeable, and PyTorch does not support non-writeable tensors. This means you can write to the underlying (supposedly non-writeable) NumPy array using the tensor. You may want to copy the array to protect its data or make it writeable before converting it to a tensor. This type of warning will be suppressed for the rest of this program. (Triggered internally at  /pytorch/torch/csrc/utils/tensor_numpy.cpp:141.)\n",
            "  return torch.from_numpy(parsed.astype(m[2], copy=False)).view(*s)\n"
          ],
          "name": "stderr"
        }
      ]
    },
    {
      "cell_type": "code",
      "metadata": {
        "id": "ipA5YoJX6bc7",
        "colab_type": "code",
        "colab": {
          "base_uri": "https://localhost:8080/",
          "height": 1000
        },
        "outputId": "719b5c7a-22ba-48c9-fc4f-7fb79325d1ee"
      },
      "source": [
        "# Error visualization\n",
        "# Displaying 5 samples for all 0-9 integers which were wrongly predicted by our model\n",
        "\n",
        "# import for viewing images\n",
        "from google.colab.patches import cv2_imshow\n",
        "\n",
        "def findError(x_test, pred, actual, number):\n",
        "  print(\"\\nInteger:\", number,\"\\n\")\n",
        "  count = 0\n",
        "  for i in range(len(actual)):\n",
        "    if count == 5:\n",
        "      break\n",
        "    if actual[i] == number and pred[i] == actual[i]:\n",
        "      cv2_imshow((x_test.dataset[i][0].permute(1, 2, 0).numpy() * 255))\n",
        "      print(\"Correct prediction at index =\", i, \", Predicted Value :\", pred[i])\n",
        "      count += 1    \n",
        "\n",
        "for x in range(10):\n",
        "  findError(testingData, predictions, y_test, x)"
      ],
      "execution_count": null,
      "outputs": [
        {
          "output_type": "stream",
          "text": [
            "\n",
            "Integer: 0 \n",
            "\n"
          ],
          "name": "stdout"
        },
        {
          "output_type": "display_data",
          "data": {
            "image/png": "[encoded data removed]",
            "text/plain": [
              "<PIL.Image.Image image mode=RGB size=28x28 at 0x7FD868E280F0>"
            ]
          },
          "metadata": {
            "tags": []
          }
        },
        {
          "output_type": "stream",
          "text": [
            "Correct prediction at index = 3 , Predicted Value : 0\n"
          ],
          "name": "stdout"
        },
        {
          "output_type": "display_data",
          "data": {
            "image/png": "[encoded data removed]",
            "text/plain": [
              "<PIL.Image.Image image mode=RGB size=28x28 at 0x7FD868E28198>"
            ]
          },
          "metadata": {
            "tags": []
          }
        },
        {
          "output_type": "stream",
          "text": [
            "Correct prediction at index = 10 , Predicted Value : 0\n"
          ],
          "name": "stdout"
        },
        {
          "output_type": "display_data",
          "data": {
            "image/png": "[encoded data removed]",
            "text/plain": [
              "<PIL.Image.Image image mode=RGB size=28x28 at 0x7FD868E28080>"
            ]
          },
          "metadata": {
            "tags": []
          }
        },
        {
          "output_type": "stream",
          "text": [
            "Correct prediction at index = 13 , Predicted Value : 0\n"
          ],
          "name": "stdout"
        },
        {
          "output_type": "display_data",
          "data": {
            "image/png": "[encoded data removed]",
            "text/plain": [
              "<PIL.Image.Image image mode=RGB size=28x28 at 0x7FD868E28128>"
            ]
          },
          "metadata": {
            "tags": []
          }
        },
        {
          "output_type": "stream",
          "text": [
            "Correct prediction at index = 25 , Predicted Value : 0\n"
          ],
          "name": "stdout"
        },
        {
          "output_type": "display_data",
          "data": {
            "image/png": "[encoded data removed]",
            "text/plain": [
              "<PIL.Image.Image image mode=RGB size=28x28 at 0x7FD868E28208>"
            ]
          },
          "metadata": {
            "tags": []
          }
        },
        {
          "output_type": "stream",
          "text": [
            "Correct prediction at index = 28 , Predicted Value : 0\n",
            "\n",
            "Integer: 1 \n",
            "\n"
          ],
          "name": "stdout"
        },
        {
          "output_type": "display_data",
          "data": {
            "image/png": "[encoded data removed]",
            "text/plain": [
              "<PIL.Image.Image image mode=RGB size=28x28 at 0x7FD868E28080>"
            ]
          },
          "metadata": {
            "tags": []
          }
        },
        {
          "output_type": "stream",
          "text": [
            "Correct prediction at index = 2 , Predicted Value : 1\n"
          ],
          "name": "stdout"
        },
        {
          "output_type": "display_data",
          "data": {
            "image/png": "[encoded data removed]",
            "text/plain": [
              "<PIL.Image.Image image mode=RGB size=28x28 at 0x7FD868E281D0>"
            ]
          },
          "metadata": {
            "tags": []
          }
        },
        {
          "output_type": "stream",
          "text": [
            "Correct prediction at index = 5 , Predicted Value : 1\n"
          ],
          "name": "stdout"
        },
        {
          "output_type": "display_data",
          "data": {
            "image/png": "[encoded data removed]",
            "text/plain": [
              "<PIL.Image.Image image mode=RGB size=28x28 at 0x7FD868E28128>"
            ]
          },
          "metadata": {
            "tags": []
          }
        },
        {
          "output_type": "stream",
          "text": [
            "Correct prediction at index = 14 , Predicted Value : 1\n"
          ],
          "name": "stdout"
        },
        {
          "output_type": "display_data",
          "data": {
            "image/png": "[encoded data removed]",
            "text/plain": [
              "<PIL.Image.Image image mode=RGB size=28x28 at 0x7FD868E282E8>"
            ]
          },
          "metadata": {
            "tags": []
          }
        },
        {
          "output_type": "stream",
          "text": [
            "Correct prediction at index = 29 , Predicted Value : 1\n"
          ],
          "name": "stdout"
        },
        {
          "output_type": "display_data",
          "data": {
            "image/png": "[encoded data removed]",
            "text/plain": [
              "<PIL.Image.Image image mode=RGB size=28x28 at 0x7FD868E28048>"
            ]
          },
          "metadata": {
            "tags": []
          }
        },
        {
          "output_type": "stream",
          "text": [
            "Correct prediction at index = 31 , Predicted Value : 1\n",
            "\n",
            "Integer: 2 \n",
            "\n"
          ],
          "name": "stdout"
        },
        {
          "output_type": "display_data",
          "data": {
            "image/png": "[encoded data removed]",
            "text/plain": [
              "<PIL.Image.Image image mode=RGB size=28x28 at 0x7FD868E28208>"
            ]
          },
          "metadata": {
            "tags": []
          }
        },
        {
          "output_type": "stream",
          "text": [
            "Correct prediction at index = 1 , Predicted Value : 2\n"
          ],
          "name": "stdout"
        },
        {
          "output_type": "display_data",
          "data": {
            "image/png": "[encoded data removed]",
            "text/plain": [
              "<PIL.Image.Image image mode=RGB size=28x28 at 0x7FD868E28128>"
            ]
          },
          "metadata": {
            "tags": []
          }
        },
        {
          "output_type": "stream",
          "text": [
            "Correct prediction at index = 35 , Predicted Value : 2\n"
          ],
          "name": "stdout"
        },
        {
          "output_type": "display_data",
          "data": {
            "image/png": "[encoded data removed]",
            "text/plain": [
              "<PIL.Image.Image image mode=RGB size=28x28 at 0x7FD868E282B0>"
            ]
          },
          "metadata": {
            "tags": []
          }
        },
        {
          "output_type": "stream",
          "text": [
            "Correct prediction at index = 38 , Predicted Value : 2\n"
          ],
          "name": "stdout"
        },
        {
          "output_type": "display_data",
          "data": {
            "image/png": "[encoded data removed]",
            "text/plain": [
              "<PIL.Image.Image image mode=RGB size=28x28 at 0x7FD868E28278>"
            ]
          },
          "metadata": {
            "tags": []
          }
        },
        {
          "output_type": "stream",
          "text": [
            "Correct prediction at index = 43 , Predicted Value : 2\n"
          ],
          "name": "stdout"
        },
        {
          "output_type": "display_data",
          "data": {
            "image/png": "[encoded data removed]",
            "text/plain": [
              "<PIL.Image.Image image mode=RGB size=28x28 at 0x7FD868E28208>"
            ]
          },
          "metadata": {
            "tags": []
          }
        },
        {
          "output_type": "stream",
          "text": [
            "Correct prediction at index = 47 , Predicted Value : 2\n",
            "\n",
            "Integer: 3 \n",
            "\n"
          ],
          "name": "stdout"
        },
        {
          "output_type": "display_data",
          "data": {
            "image/png": "[encoded data removed]",
            "text/plain": [
              "<PIL.Image.Image image mode=RGB size=28x28 at 0x7FD868E28278>"
            ]
          },
          "metadata": {
            "tags": []
          }
        },
        {
          "output_type": "stream",
          "text": [
            "Correct prediction at index = 18 , Predicted Value : 3\n"
          ],
          "name": "stdout"
        },
        {
          "output_type": "display_data",
          "data": {
            "image/png": "[encoded data removed]",
            "text/plain": [
              "<PIL.Image.Image image mode=RGB size=28x28 at 0x7FD868E282B0>"
            ]
          },
          "metadata": {
            "tags": []
          }
        },
        {
          "output_type": "stream",
          "text": [
            "Correct prediction at index = 30 , Predicted Value : 3\n"
          ],
          "name": "stdout"
        },
        {
          "output_type": "display_data",
          "data": {
            "image/png": "[encoded data removed]",
            "text/plain": [
              "<PIL.Image.Image image mode=RGB size=28x28 at 0x7FD868E280F0>"
            ]
          },
          "metadata": {
            "tags": []
          }
        },
        {
          "output_type": "stream",
          "text": [
            "Correct prediction at index = 32 , Predicted Value : 3\n"
          ],
          "name": "stdout"
        },
        {
          "output_type": "display_data",
          "data": {
            "image/png": "[encoded data removed]",
            "text/plain": [
              "<PIL.Image.Image image mode=RGB size=28x28 at 0x7FD868E28208>"
            ]
          },
          "metadata": {
            "tags": []
          }
        },
        {
          "output_type": "stream",
          "text": [
            "Correct prediction at index = 44 , Predicted Value : 3\n"
          ],
          "name": "stdout"
        },
        {
          "output_type": "display_data",
          "data": {
            "image/png": "[encoded data removed]",
            "text/plain": [
              "<PIL.Image.Image image mode=RGB size=28x28 at 0x7FD868E28278>"
            ]
          },
          "metadata": {
            "tags": []
          }
        },
        {
          "output_type": "stream",
          "text": [
            "Correct prediction at index = 51 , Predicted Value : 3\n",
            "\n",
            "Integer: 4 \n",
            "\n"
          ],
          "name": "stdout"
        },
        {
          "output_type": "display_data",
          "data": {
            "image/png": "[encoded data removed]",
            "text/plain": [
              "<PIL.Image.Image image mode=RGB size=28x28 at 0x7FD868E28208>"
            ]
          },
          "metadata": {
            "tags": []
          }
        },
        {
          "output_type": "stream",
          "text": [
            "Correct prediction at index = 4 , Predicted Value : 4\n"
          ],
          "name": "stdout"
        },
        {
          "output_type": "display_data",
          "data": {
            "image/png": "[encoded data removed]",
            "text/plain": [
              "<PIL.Image.Image image mode=RGB size=28x28 at 0x7FD868E280F0>"
            ]
          },
          "metadata": {
            "tags": []
          }
        },
        {
          "output_type": "stream",
          "text": [
            "Correct prediction at index = 6 , Predicted Value : 4\n"
          ],
          "name": "stdout"
        },
        {
          "output_type": "display_data",
          "data": {
            "image/png": "[encoded data removed]",
            "text/plain": [
              "<PIL.Image.Image image mode=RGB size=28x28 at 0x7FD868E281D0>"
            ]
          },
          "metadata": {
            "tags": []
          }
        },
        {
          "output_type": "stream",
          "text": [
            "Correct prediction at index = 19 , Predicted Value : 4\n"
          ],
          "name": "stdout"
        },
        {
          "output_type": "display_data",
          "data": {
            "image/png": "[encoded data removed]",
            "text/plain": [
              "<PIL.Image.Image image mode=RGB size=28x28 at 0x7FD868E28278>"
            ]
          },
          "metadata": {
            "tags": []
          }
        },
        {
          "output_type": "stream",
          "text": [
            "Correct prediction at index = 24 , Predicted Value : 4\n"
          ],
          "name": "stdout"
        },
        {
          "output_type": "display_data",
          "data": {
            "image/png": "[encoded data removed]",
            "text/plain": [
              "<PIL.Image.Image image mode=RGB size=28x28 at 0x7FD868E28208>"
            ]
          },
          "metadata": {
            "tags": []
          }
        },
        {
          "output_type": "stream",
          "text": [
            "Correct prediction at index = 27 , Predicted Value : 4\n",
            "\n",
            "Integer: 5 \n",
            "\n"
          ],
          "name": "stdout"
        },
        {
          "output_type": "display_data",
          "data": {
            "image/png": "[encoded data removed]",
            "text/plain": [
              "<PIL.Image.Image image mode=RGB size=28x28 at 0x7FD868E28278>"
            ]
          },
          "metadata": {
            "tags": []
          }
        },
        {
          "output_type": "stream",
          "text": [
            "Correct prediction at index = 15 , Predicted Value : 5\n"
          ],
          "name": "stdout"
        },
        {
          "output_type": "display_data",
          "data": {
            "image/png": "[encoded data removed]",
            "text/plain": [
              "<PIL.Image.Image image mode=RGB size=28x28 at 0x7FD868E281D0>"
            ]
          },
          "metadata": {
            "tags": []
          }
        },
        {
          "output_type": "stream",
          "text": [
            "Correct prediction at index = 23 , Predicted Value : 5\n"
          ],
          "name": "stdout"
        },
        {
          "output_type": "display_data",
          "data": {
            "image/png": "[encoded data removed]",
            "text/plain": [
              "<PIL.Image.Image image mode=RGB size=28x28 at 0x7FD868E28278>"
            ]
          },
          "metadata": {
            "tags": []
          }
        },
        {
          "output_type": "stream",
          "text": [
            "Correct prediction at index = 45 , Predicted Value : 5\n"
          ],
          "name": "stdout"
        },
        {
          "output_type": "display_data",
          "data": {
            "image/png": "[encoded data removed]",
            "text/plain": [
              "<PIL.Image.Image image mode=RGB size=28x28 at 0x7FD868E28080>"
            ]
          },
          "metadata": {
            "tags": []
          }
        },
        {
          "output_type": "stream",
          "text": [
            "Correct prediction at index = 52 , Predicted Value : 5\n"
          ],
          "name": "stdout"
        },
        {
          "output_type": "display_data",
          "data": {
            "image/png": "[encoded data removed]",
            "text/plain": [
              "<PIL.Image.Image image mode=RGB size=28x28 at 0x7FD868E28128>"
            ]
          },
          "metadata": {
            "tags": []
          }
        },
        {
          "output_type": "stream",
          "text": [
            "Correct prediction at index = 53 , Predicted Value : 5\n",
            "\n",
            "Integer: 6 \n",
            "\n"
          ],
          "name": "stdout"
        },
        {
          "output_type": "display_data",
          "data": {
            "image/png": "[encoded data removed]",
            "text/plain": [
              "<PIL.Image.Image image mode=RGB size=28x28 at 0x7FD868E280F0>"
            ]
          },
          "metadata": {
            "tags": []
          }
        },
        {
          "output_type": "stream",
          "text": [
            "Correct prediction at index = 11 , Predicted Value : 6\n"
          ],
          "name": "stdout"
        },
        {
          "output_type": "display_data",
          "data": {
            "image/png": "[encoded data removed]",
            "text/plain": [
              "<PIL.Image.Image image mode=RGB size=28x28 at 0x7FD868E282B0>"
            ]
          },
          "metadata": {
            "tags": []
          }
        },
        {
          "output_type": "stream",
          "text": [
            "Correct prediction at index = 21 , Predicted Value : 6\n"
          ],
          "name": "stdout"
        },
        {
          "output_type": "display_data",
          "data": {
            "image/png": "[encoded data removed]",
            "text/plain": [
              "<PIL.Image.Image image mode=RGB size=28x28 at 0x7FD868E282E8>"
            ]
          },
          "metadata": {
            "tags": []
          }
        },
        {
          "output_type": "stream",
          "text": [
            "Correct prediction at index = 22 , Predicted Value : 6\n"
          ],
          "name": "stdout"
        },
        {
          "output_type": "display_data",
          "data": {
            "image/png": "[encoded data removed]",
            "text/plain": [
              "<PIL.Image.Image image mode=RGB size=28x28 at 0x7FD868E28208>"
            ]
          },
          "metadata": {
            "tags": []
          }
        },
        {
          "output_type": "stream",
          "text": [
            "Correct prediction at index = 50 , Predicted Value : 6\n"
          ],
          "name": "stdout"
        },
        {
          "output_type": "display_data",
          "data": {
            "image/png": "[encoded data removed]",
            "text/plain": [
              "<PIL.Image.Image image mode=RGB size=28x28 at 0x7FD868E28278>"
            ]
          },
          "metadata": {
            "tags": []
          }
        },
        {
          "output_type": "stream",
          "text": [
            "Correct prediction at index = 54 , Predicted Value : 6\n",
            "\n",
            "Integer: 7 \n",
            "\n"
          ],
          "name": "stdout"
        },
        {
          "output_type": "display_data",
          "data": {
            "image/png": "[encoded data removed]",
            "text/plain": [
              "<PIL.Image.Image image mode=RGB size=28x28 at 0x7FD868E280F0>"
            ]
          },
          "metadata": {
            "tags": []
          }
        },
        {
          "output_type": "stream",
          "text": [
            "Correct prediction at index = 0 , Predicted Value : 7\n"
          ],
          "name": "stdout"
        },
        {
          "output_type": "display_data",
          "data": {
            "image/png": "[encoded data removed]",
            "text/plain": [
              "<PIL.Image.Image image mode=RGB size=28x28 at 0x7FD868E281D0>"
            ]
          },
          "metadata": {
            "tags": []
          }
        },
        {
          "output_type": "stream",
          "text": [
            "Correct prediction at index = 17 , Predicted Value : 7\n"
          ],
          "name": "stdout"
        },
        {
          "output_type": "display_data",
          "data": {
            "image/png": "[encoded data removed]",
            "text/plain": [
              "<PIL.Image.Image image mode=RGB size=28x28 at 0x7FD868E28080>"
            ]
          },
          "metadata": {
            "tags": []
          }
        },
        {
          "output_type": "stream",
          "text": [
            "Correct prediction at index = 26 , Predicted Value : 7\n"
          ],
          "name": "stdout"
        },
        {
          "output_type": "display_data",
          "data": {
            "image/png": "[encoded data removed]",
            "text/plain": [
              "<PIL.Image.Image image mode=RGB size=28x28 at 0x7FD868E28278>"
            ]
          },
          "metadata": {
            "tags": []
          }
        },
        {
          "output_type": "stream",
          "text": [
            "Correct prediction at index = 34 , Predicted Value : 7\n"
          ],
          "name": "stdout"
        },
        {
          "output_type": "display_data",
          "data": {
            "image/png": "[encoded data removed]",
            "text/plain": [
              "<PIL.Image.Image image mode=RGB size=28x28 at 0x7FD868E280F0>"
            ]
          },
          "metadata": {
            "tags": []
          }
        },
        {
          "output_type": "stream",
          "text": [
            "Correct prediction at index = 36 , Predicted Value : 7\n",
            "\n",
            "Integer: 8 \n",
            "\n"
          ],
          "name": "stdout"
        },
        {
          "output_type": "display_data",
          "data": {
            "image/png": "[encoded data removed]",
            "text/plain": [
              "<PIL.Image.Image image mode=RGB size=28x28 at 0x7FD868E28278>"
            ]
          },
          "metadata": {
            "tags": []
          }
        },
        {
          "output_type": "stream",
          "text": [
            "Correct prediction at index = 61 , Predicted Value : 8\n"
          ],
          "name": "stdout"
        },
        {
          "output_type": "display_data",
          "data": {
            "image/png": "[encoded data removed]",
            "text/plain": [
              "<PIL.Image.Image image mode=RGB size=28x28 at 0x7FD868E280F0>"
            ]
          },
          "metadata": {
            "tags": []
          }
        },
        {
          "output_type": "stream",
          "text": [
            "Correct prediction at index = 84 , Predicted Value : 8\n"
          ],
          "name": "stdout"
        },
        {
          "output_type": "display_data",
          "data": {
            "image/png": "[encoded data removed]",
            "text/plain": [
              "<PIL.Image.Image image mode=RGB size=28x28 at 0x7FD868E28048>"
            ]
          },
          "metadata": {
            "tags": []
          }
        },
        {
          "output_type": "stream",
          "text": [
            "Correct prediction at index = 110 , Predicted Value : 8\n"
          ],
          "name": "stdout"
        },
        {
          "output_type": "display_data",
          "data": {
            "image/png": "[encoded data removed]",
            "text/plain": [
              "<PIL.Image.Image image mode=RGB size=28x28 at 0x7FD868E28278>"
            ]
          },
          "metadata": {
            "tags": []
          }
        },
        {
          "output_type": "stream",
          "text": [
            "Correct prediction at index = 128 , Predicted Value : 8\n"
          ],
          "name": "stdout"
        },
        {
          "output_type": "display_data",
          "data": {
            "image/png": "[encoded data removed]",
            "text/plain": [
              "<PIL.Image.Image image mode=RGB size=28x28 at 0x7FD868E280F0>"
            ]
          },
          "metadata": {
            "tags": []
          }
        },
        {
          "output_type": "stream",
          "text": [
            "Correct prediction at index = 134 , Predicted Value : 8\n",
            "\n",
            "Integer: 9 \n",
            "\n"
          ],
          "name": "stdout"
        },
        {
          "output_type": "display_data",
          "data": {
            "image/png": "[encoded data removed]",
            "text/plain": [
              "<PIL.Image.Image image mode=RGB size=28x28 at 0x7FD868E282E8>"
            ]
          },
          "metadata": {
            "tags": []
          }
        },
        {
          "output_type": "stream",
          "text": [
            "Correct prediction at index = 7 , Predicted Value : 9\n"
          ],
          "name": "stdout"
        },
        {
          "output_type": "display_data",
          "data": {
            "image/png": "[encoded data removed]",
            "text/plain": [
              "<PIL.Image.Image image mode=RGB size=28x28 at 0x7FD868E28208>"
            ]
          },
          "metadata": {
            "tags": []
          }
        },
        {
          "output_type": "stream",
          "text": [
            "Correct prediction at index = 9 , Predicted Value : 9\n"
          ],
          "name": "stdout"
        },
        {
          "output_type": "display_data",
          "data": {
            "image/png": "[encoded data removed]",
            "text/plain": [
              "<PIL.Image.Image image mode=RGB size=28x28 at 0x7FD868E28278>"
            ]
          },
          "metadata": {
            "tags": []
          }
        },
        {
          "output_type": "stream",
          "text": [
            "Correct prediction at index = 12 , Predicted Value : 9\n"
          ],
          "name": "stdout"
        },
        {
          "output_type": "display_data",
          "data": {
            "image/png": "[encoded data removed]",
            "text/plain": [
              "<PIL.Image.Image image mode=RGB size=28x28 at 0x7FD868E28080>"
            ]
          },
          "metadata": {
            "tags": []
          }
        },
        {
          "output_type": "stream",
          "text": [
            "Correct prediction at index = 16 , Predicted Value : 9\n"
          ],
          "name": "stdout"
        },
        {
          "output_type": "display_data",
          "data": {
            "image/png": "[encoded data removed]",
            "text/plain": [
              "<PIL.Image.Image image mode=RGB size=28x28 at 0x7FD868E28208>"
            ]
          },
          "metadata": {
            "tags": []
          }
        },
        {
          "output_type": "stream",
          "text": [
            "Correct prediction at index = 58 , Predicted Value : 9\n"
          ],
          "name": "stdout"
        }
      ]
    },
    {
      "cell_type": "markdown",
      "metadata": {
        "id": "ffi8GSGzJjvY",
        "colab_type": "text"
      },
      "source": [
        "# Classification Report & Confusion Matrix of our Neural Network"
      ]
    },
    {
      "cell_type": "code",
      "metadata": {
        "id": "c8QGBCa2IH6T",
        "colab_type": "code",
        "colab": {
          "base_uri": "https://localhost:8080/",
          "height": 306
        },
        "outputId": "be4effe0-a151-4f83-cb2d-7bea2fbe6335"
      },
      "source": [
        "predictions = np.array(predictions)\n",
        "y_test = np.array(y_test)\n",
        "print(classification_report(y_test, predictions))"
      ],
      "execution_count": null,
      "outputs": [
        {
          "output_type": "stream",
          "text": [
            "              precision    recall  f1-score   support\n",
            "\n",
            "           0       0.95      0.96      0.96       980\n",
            "           1       0.97      0.98      0.98      1135\n",
            "           2       0.92      0.88      0.90      1032\n",
            "           3       0.94      0.88      0.91      1010\n",
            "           4       0.86      0.94      0.90       982\n",
            "           5       0.90      0.86      0.88       892\n",
            "           6       0.90      0.94      0.92       958\n",
            "           7       0.81      0.95      0.88      1028\n",
            "           8       0.94      0.81      0.87       974\n",
            "           9       0.88      0.84      0.86      1009\n",
            "\n",
            "    accuracy                           0.91     10000\n",
            "   macro avg       0.91      0.90      0.90     10000\n",
            "weighted avg       0.91      0.91      0.91     10000\n",
            "\n"
          ],
          "name": "stdout"
        }
      ]
    },
    {
      "cell_type": "code",
      "metadata": {
        "id": "ZmNJHi9AITG0",
        "colab_type": "code",
        "colab": {
          "base_uri": "https://localhost:8080/",
          "height": 187
        },
        "outputId": "47d744c6-a237-490c-bfbb-1210ce2b0669"
      },
      "source": [
        "print(confusion_matrix(y_test, predictions))"
      ],
      "execution_count": null,
      "outputs": [
        {
          "output_type": "stream",
          "text": [
            "[[ 945    0    1    2    0    7   10    9    3    3]\n",
            " [   0 1116    5    1    1    2    3    4    3    0]\n",
            " [  13    3  905   10   18    2   15   38   23    5]\n",
            " [   4    0   29  889    1   29    2   33   11   12]\n",
            " [   0    4    1    0  920    0   14   10    1   32]\n",
            " [   8    2    1   19   21  768   26   24    6   17]\n",
            " [  10    3    7    1   23   11  896    7    0    0]\n",
            " [   0    9   20    1    5    0    0  980    0   13]\n",
            " [   8   10   10   20   21   33   24   30  785   33]\n",
            " [   8    5    1    3   55    6    1   76    3  851]]\n"
          ],
          "name": "stdout"
        }
      ]
    },
    {
      "cell_type": "code",
      "metadata": {
        "id": "vPLg_w3G7l3t",
        "colab_type": "code",
        "colab": {}
      },
      "source": [
        ""
      ],
      "execution_count": null,
      "outputs": []
    }
  ]
}